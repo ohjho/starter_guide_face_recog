{
 "cells": [
  {
   "cell_type": "markdown",
   "metadata": {},
   "source": [
    "# A boilerplat for doing Face Detection using OpenCV\n",
    "\n",
    "### Preliminary\n",
    "\n",
    "Import the required packages.\n",
    "\n",
    "Download the cascade models from [here](https://github.com/opencv/opencv/tree/master/data/haarcascades)."
   ]
  },
  {
   "cell_type": "code",
   "execution_count": 1,
   "metadata": {},
   "outputs": [],
   "source": [
    "import numpy as np\n",
    "import cv2\n",
    "\n",
    "#cascade_url = 'https://raw.githubusercontent.com/opencv/opencv/master/data/haarcascades/haarcascade_frontalface_default.xml'\n",
    "cascade_url = 'data/haarcascade_frontalface_default.xml'   #point to where your cascade models located"
   ]
  },
  {
   "cell_type": "markdown",
   "metadata": {},
   "source": [
    "## 1. Detecting Faces in a Picture\n",
    "### Model Inputs"
   ]
  },
  {
   "cell_type": "code",
   "execution_count": 3,
   "metadata": {},
   "outputs": [],
   "source": [
    "img_path = 'data/cf_girls.jpg'\n",
    "\n",
    "# Create the Cascade\n",
    "ourCasc = cv2.CascadeClassifier(cascade_url)\n",
    "\n",
    "# Load the image into memory\n",
    "img = cv2.imread(img_path)\n",
    "img_gray = cv2.cvtColor(img, cv2.COLOR_BGR2GRAY)"
   ]
  },
  {
   "cell_type": "markdown",
   "metadata": {},
   "source": [
    "### Face Detection\n",
    "Detect faces in the image"
   ]
  },
  {
   "cell_type": "code",
   "execution_count": 4,
   "metadata": {},
   "outputs": [
    {
     "name": "stdout",
     "output_type": "stream",
     "text": [
      "Found 4 faces!\n"
     ]
    }
   ],
   "source": [
    "faces = ourCasc.detectMultiScale(\n",
    "        img_gray,\n",
    "        scaleFactor = 1.2,\n",
    "        minNeighbors = 5,\n",
    "        minSize = (30,30)\n",
    "    )\n",
    "\n",
    "print(f'Found {len(faces)} faces!')"
   ]
  },
  {
   "cell_type": "markdown",
   "metadata": {},
   "source": [
    "### Output Identified Faces\n",
    "Check the identified faces and adjust the `detectMultiScale` [parameters](http://opencvexamples.blogspot.com/2013/10/face-detection-using-haar-cascade.html) above as required"
   ]
  },
  {
   "cell_type": "code",
   "execution_count": null,
   "metadata": {},
   "outputs": [],
   "source": [
    "for (x, y, w, h) in faces:\n",
    "    cv2.rectangle(img, (x,y), (x+w, y+h), (0,255,0), 2)\n",
    "\n",
    "cv2.imshow('Faces Found', img)\n",
    "cv2.waitKey(0)"
   ]
  },
  {
   "cell_type": "markdown",
   "metadata": {},
   "source": [
    "## 2. Face Detecting using webcam\n",
    "### Basic setups\n",
    "See below for cap.set() parameters"
   ]
  },
  {
   "cell_type": "code",
   "execution_count": 4,
   "metadata": {},
   "outputs": [
    {
     "data": {
      "text/plain": [
       "True"
      ]
     },
     "execution_count": 4,
     "metadata": {},
     "output_type": "execute_result"
    }
   ],
   "source": [
    "faceCascade = cv2.CascadeClassifier(cascade_url)\n",
    "\n",
    "# select camera, 0 for front facing camera, 1 for rear camera, if your machine has two camera\n",
    "cap = cv2.VideoCapture(0) \n",
    "\n",
    "cap.set(3,1920)   # set Width for the video capture window\n",
    "cap.set(4,1080)   # set Height for the video capture window\n",
    "cap.set(5,30)     # set fps to 30"
   ]
  },
  {
   "cell_type": "markdown",
   "metadata": {},
   "source": [
    "### Face Detection\n",
    "Real-time face detection though webcam"
   ]
  },
  {
   "cell_type": "code",
   "execution_count": 3,
   "metadata": {},
   "outputs": [],
   "source": [
    "while True:\n",
    "    ret, img = cap.read()\n",
    "    img = cv2.flip(img, 1) # flip camera to fix the rotaion if needed\n",
    "    gray = cv2.cvtColor(img, cv2.COLOR_BGR2GRAY) # transform capturing frame to grey\n",
    "    faces = faceCascade.detectMultiScale(\n",
    "        gray,     \n",
    "        scaleFactor=1.2,    # rescaling faces for detection\n",
    "        minNeighbors=3,     # affect the quality of the detected faces. Higher value results in less detections but with higher quality\n",
    "        minSize=(50, 50),   # minimum possible object size. Objects smaller than this are ignored.\n",
    "        maxSize=None        # maximum possible object size. Objects larger than this are ignored. \n",
    "    )                       # If maxSize == minSize model is evaluated on single scale.\n",
    "    \n",
    "# The code spends most of the time in the cascade detection, if you encounter low fps results from your webcam, try:\n",
    "# 1. lower image resolution from the camera\n",
    "# 2. tweak the detection params, increase scale factor, set min/max size values\n",
    "   \n",
    "    for (x,y,w,h) in faces:\n",
    "        cv2.rectangle(img,(x,y),(x+w,y+h),(0,0,255),2)  #Draws an up-right rectangle for all detected faces\n",
    "                                                        #(0,255,0) = colour of rectangle in RGB, 10=thickness of the border of rectangle                                                           \n",
    "        roi_gray = gray[y:y+h, x:x+w]\n",
    "        roi_color = img[y:y+h, x:x+w]  \n",
    "    \n",
    "    cv2.imshow('video',img)\n",
    "    \n",
    "    k = cv2.waitKey(30) & 0xff\n",
    "    \n",
    "    if k == 27:                                         # press 'ESC' to quit\n",
    "        break\n",
    "\n",
    "cap.release()\n",
    "cv2.destroyAllWindows()"
   ]
  },
  {
   "cell_type": "markdown",
   "metadata": {},
   "source": [
    "#### Reference for parameters of cap.set()\n",
    "0. CV_CAP_PROP_POS_MSEC Current position of the video file in milliseconds.\n",
    "1. CV_CAP_PROP_POS_FRAMES 0-based index of the frame to be decoded/captured next.\n",
    "2. CV_CAP_PROP_POS_AVI_RATIO Relative position of the video file\n",
    "3. CV_CAP_PROP_FRAME_WIDTH Width of the frames in the video stream.\n",
    "4. CV_CAP_PROP_FRAME_HEIGHT Height of the frames in the video stream.\n",
    "5. CV_CAP_PROP_FPS Frame rate.\n",
    "6. CV_CAP_PROP_FOURCC 4-character code of codec.\n",
    "7. CV_CAP_PROP_FRAME_COUNT Number of frames in the video file.\n",
    "8. CV_CAP_PROP_FORMAT Format of the Mat objects returned by retrieve() .\n",
    "9. CV_CAP_PROP_MODE Backend-specific value indicating the current capture mode.\n",
    "10. CV_CAP_PROP_BRIGHTNESS Brightness of the image (only for cameras).\n",
    "11. CV_CAP_PROP_CONTRAST Contrast of the image (only for cameras).\n",
    "12. CV_CAP_PROP_SATURATION Saturation of the image (only for cameras).\n",
    "13. CV_CAP_PROP_HUE Hue of the image (only for cameras).\n",
    "14. CV_CAP_PROP_GAIN Gain of the image (only for cameras).\n",
    "15. CV_CAP_PROP_EXPOSURE Exposure (only for cameras).\n",
    "16. CV_CAP_PROP_CONVERT_RGB Boolean flags indicating whether images should be converted to RGB.\n",
    "17. CV_CAP_PROP_WHITE_BALANCE Currently unsupported\n",
    "18. CV_CAP_PROP_RECTIFICATION Rectification flag for stereo cameras (note: only supported by DC1394 v 2.x backend currently)"
   ]
  }
 ],
 "metadata": {
  "kernelspec": {
   "display_name": "Python 3",
   "language": "python",
   "name": "python3"
  },
  "language_info": {
   "codemirror_mode": {
    "name": "ipython",
    "version": 3
   },
   "file_extension": ".py",
   "mimetype": "text/x-python",
   "name": "python",
   "nbconvert_exporter": "python",
   "pygments_lexer": "ipython3",
   "version": "3.6.3"
  }
 },
 "nbformat": 4,
 "nbformat_minor": 2
}
