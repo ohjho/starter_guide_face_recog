{
 "cells": [
  {
   "cell_type": "markdown",
   "metadata": {},
   "source": [
    "# HOG face detector using dlib\n",
    "\n",
    "Code is modified to run in jupyter notebook.  \n",
    "Source from ageitgey:  \n",
    "https://gist.github.com/ageitgey/1c1cb1c60ace321868f7410d48c228e1  \n",
    "Tutorial article:  \n",
    "https://medium.com/@ageitgey/machine-learning-is-fun-part-4-modern-face-recognition-with-deep-learning-c3cffc121d78#8b7d"
   ]
  },
  {
   "cell_type": "code",
   "execution_count": 1,
   "metadata": {},
   "outputs": [],
   "source": [
    "import sys\n",
    "import dlib\n",
    "from skimage import io"
   ]
  },
  {
   "cell_type": "code",
   "execution_count": 2,
   "metadata": {},
   "outputs": [],
   "source": [
    "# Take the image file name\n",
    "file_name = \"data/sample.jpg\""
   ]
  },
  {
   "cell_type": "code",
   "execution_count": 3,
   "metadata": {},
   "outputs": [],
   "source": [
    "# Create a HOG face detector using the built-in dlib class\n",
    "face_detector = dlib.get_frontal_face_detector()\n",
    "\n",
    "win = dlib.image_window()"
   ]
  },
  {
   "cell_type": "code",
   "execution_count": 4,
   "metadata": {},
   "outputs": [],
   "source": [
    "# Load the image into an array\n",
    "image = io.imread(file_name)"
   ]
  },
  {
   "cell_type": "code",
   "execution_count": 5,
   "metadata": {},
   "outputs": [
    {
     "name": "stdout",
     "output_type": "stream",
     "text": [
      "I found 9 faces in the file sample.jpg\n"
     ]
    }
   ],
   "source": [
    "# Run the HOG face detector on the image data.\n",
    "# The result will be the bounding boxes of the faces in our image.\n",
    "detected_faces = face_detector(image, 1)\n",
    "\n",
    "print(\"I found {} faces in the file {}\".format(len(detected_faces), file_name))"
   ]
  },
  {
   "cell_type": "code",
   "execution_count": 6,
   "metadata": {},
   "outputs": [],
   "source": [
    "# Open a window on the desktop showing the image\n",
    "win.set_image(image)"
   ]
  },
  {
   "cell_type": "code",
   "execution_count": 7,
   "metadata": {
    "scrolled": true
   },
   "outputs": [
    {
     "name": "stdout",
     "output_type": "stream",
     "text": [
      "- Face #0 found at Left: 287 Top: 167 Right: 442 Bottom: 322\n",
      "- Face #1 found at Left: 361 Top: 5 Right: 436 Bottom: 80\n",
      "- Face #2 found at Left: 187 Top: 175 Right: 294 Bottom: 283\n",
      "- Face #3 found at Left: 32 Top: 68 Right: 139 Bottom: 175\n",
      "- Face #4 found at Left: 280 Top: 46 Right: 342 Bottom: 108\n",
      "- Face #5 found at Left: 196 Top: 38 Right: 270 Bottom: 113\n",
      "- Face #6 found at Left: 462 Top: 116 Right: 569 Bottom: 223\n",
      "- Face #7 found at Left: 121 Top: 146 Right: 196 Bottom: 221\n",
      "- Face #8 found at Left: 135 Top: 49 Right: 187 Bottom: 101\n"
     ]
    }
   ],
   "source": [
    "# Loop through each face we found in the image\n",
    "for i, face_rect in enumerate(detected_faces):\n",
    "\n",
    "    # Detected faces are returned as an object with the coordinates \n",
    "    # of the top, left, right and bottom edges\n",
    "    print(\"- Face #{} found at Left: {} Top: {} Right: {} Bottom: {}\".format(i, face_rect.left(), face_rect.top(), face_rect.right(), face_rect.bottom()))\n",
    "\n",
    "    # Draw a box around each face we found\n",
    "    win.add_overlay(face_rect)"
   ]
  }
 ],
 "metadata": {
  "kernelspec": {
   "display_name": "Python 3",
   "language": "python",
   "name": "python3"
  },
  "language_info": {
   "codemirror_mode": {
    "name": "ipython",
    "version": 3
   },
   "file_extension": ".py",
   "mimetype": "text/x-python",
   "name": "python",
   "nbconvert_exporter": "python",
   "pygments_lexer": "ipython3",
   "version": "3.6.6"
  }
 },
 "nbformat": 4,
 "nbformat_minor": 2
}
